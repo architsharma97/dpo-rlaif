{
 "cells": [
  {
   "cell_type": "code",
   "execution_count": 2,
   "metadata": {},
   "outputs": [],
   "source": [
    "import json\n",
    "import os\n",
    "base_annotation_file_path = '/ebs/.cache/ubuntu/sharegpt_data/comparisons_gpt4/mistralsft0.11_vs_gpt4/annotations.json'\n",
    "with open(base_annotation_file_path, 'r') as f:\n",
    "    annotations = json.load(f)"
   ]
  },
  {
   "cell_type": "code",
   "execution_count": 3,
   "metadata": {},
   "outputs": [],
   "source": [
    "new_sample_folder = '/ebs/.cache/ubuntu/sharegpt4_mistral7b_sft46k_lr5e-7_2023-11-28_09-43-28_375063/epoch-2/sharegpt2turn_noeos_maxlen512_temp1.0'\n",
    "sft_instruction_truncoutput_pair = []\n",
    "sft_instructions = []\n",
    "instructions_too_long = 0\n",
    "\n",
    "for sample_file in os.listdir(new_sample_folder):\n",
    "    sft_outputs = json.load(open(os.path.join(new_sample_folder, sample_file), 'r'))\n",
    "    for instruction, sft_output in sft_outputs.items():\n",
    "        instruction_trimmed = instruction[len('Human: '):-len('\\n\\nAssistant: ')]\n",
    "        if instruction_trimmed in sft_instructions:\n",
    "            continue\n",
    "        # really long instructions exceed the context length for GPT-4\n",
    "        if len(instruction_trimmed.split()) >= 2000 or len(instruction_trimmed) >= 8000:\n",
    "            instructions_too_long += 1\n",
    "            continue\n",
    "        sft_instruction_truncoutput_pair.append({'instruction': instruction_trimmed,\n",
    "                                                 'output': sft_output[0]})\n",
    "        sft_instructions.append(instruction_trimmed)"
   ]
  },
  {
   "cell_type": "code",
   "execution_count": 8,
   "metadata": {},
   "outputs": [
    {
     "data": {
      "text/plain": [
       "{'instruction': 'I need to interview someone with 5 years experience in software development for a software engineering contractor job. The job will largely entail working with Spring Boot applications that use custom spring boot starter libraries, REST microservices, Kafka through the use of Spring Cloud Stream, OpenFeign, and we use Gradle to build our software. Can you help me build some questions appropriate for their number of years of experience?',\n",
       " 'output_1': 'Certainly! Here are some questions you can ask during the interview to gauge their experience and knowledge in software development, particularly in the context of the technologies you mentioned:\\n\\n1. Can you tell us about your overall experience with software development and how it has evolved over the past 5 years?\\n\\n2. What kind of projects have you worked on using Spring Boot? Can you share some examples of custom spring boot starter libraries you have created or worked with?\\n\\n3. How do you ensure that your RESTful microservices are scalable, maintainable, and adhere to industry best practices?\\n\\n4. Can you explain the importance of Spring Cloud Stream in building event-driven microservices? Share your experience working with it, and how you have utilized it with Apache Kafka.\\n\\n5. How do you handle communication between microservices in a distributed system? Can you share your experience using OpenFeign for this purpose?\\n\\n6. How proficient are you with Gradle for building and managing projects? Can you describe your typical Gradle build process and configurations for a Spring Boot application?\\n\\n7. How do you ensure secure communication between microservices, and what security measures have you implemented',\n",
       " 'generator_1': 'gpt4',\n",
       " 'output_2': '1. How do you maintain code quality and best practices when working with Spring Boot applications and custom Spring Boot starter libraries?\\n\\n2. Can you discuss a project you worked on that utilized REST microservices? What were the challenges you faced and how did you overcome them?\\n\\n3. How do you approach debugging and troubleshooting issues in a Spring Boot application that uses Kafka and Spring Cloud Stream?\\n\\n4. Describe your experience with OpenFeign and how you have utilized it in a project. What benefits did it provide?\\n\\n5. What role do you think Gradle plays in the development of software using Spring Boot, and what advantages do you think it offers compared to other build tools?\\n\\n6. How do you keep up with the latest trends and advancements in the software development industry, specifically in the Spring Boot ecosystem?\\n\\n7. In your experience, what are the key challenges faced when working with Spring Boot applications and how do you address them?',\n",
       " 'generator_2': 'temp1.0',\n",
       " 'annotator': 'gpt4',\n",
       " 'preference': 1,\n",
       " 'price_per_example': 0.02256,\n",
       " 'time_per_example': 0.9178726263}"
      ]
     },
     "execution_count": 8,
     "metadata": {},
     "output_type": "execute_result"
    }
   ],
   "source": [
    "annotations[0]"
   ]
  },
  {
   "cell_type": "code",
   "execution_count": 9,
   "metadata": {},
   "outputs": [
    {
     "name": "stdout",
     "output_type": "stream",
     "text": [
      "0\n"
     ]
    }
   ],
   "source": [
    "indices_to_remove = []\n",
    "for idx, entry in enumerate(annotations):\n",
    "    if entry['instruction'] in sft_instructions:\n",
    "        entry['output_2'] = sft_instruction_truncoutput_pair[sft_instructions.index(entry['instruction'])]['output']\n",
    "        entry['preference'] = 1\n",
    "    else:\n",
    "        indices_to_remove.append(idx)\n",
    "print(len(indices_to_remove))\n",
    "for idx in indices_to_remove:\n",
    "    del annotations[idx]"
   ]
  },
  {
   "cell_type": "code",
   "execution_count": 12,
   "metadata": {},
   "outputs": [],
   "source": [
    "# dump new annotations to file\n",
    "new_annotation_file = os.path.join(new_sample_folder, 'auto_annotations_vs_gpt4.json')\n",
    "with open(new_annotation_file, 'w') as f:\n",
    "    json.dump(annotations, f, indent=4)"
   ]
  }
 ],
 "metadata": {
  "kernelspec": {
   "display_name": "rlhf",
   "language": "python",
   "name": "python3"
  },
  "language_info": {
   "codemirror_mode": {
    "name": "ipython",
    "version": 3
   },
   "file_extension": ".py",
   "mimetype": "text/x-python",
   "name": "python",
   "nbconvert_exporter": "python",
   "pygments_lexer": "ipython3",
   "version": "3.11.4"
  },
  "orig_nbformat": 4
 },
 "nbformat": 4,
 "nbformat_minor": 2
}
