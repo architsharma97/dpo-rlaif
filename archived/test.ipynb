{
 "cells": [
  {
   "cell_type": "code",
   "execution_count": 2,
   "metadata": {},
   "outputs": [
    {
     "name": "stderr",
     "output_type": "stream",
     "text": [
      "/opt/conda/envs/rlhf/lib/python3.11/site-packages/tqdm/auto.py:21: TqdmWarning: IProgress not found. Please update jupyter and ipywidgets. See https://ipywidgets.readthedocs.io/en/stable/user_install.html\n",
      "  from .autonotebook import tqdm as notebook_tqdm\n"
     ]
    }
   ],
   "source": [
    "import transformers\n",
    "from preference_datasets import get_batch_iterator\n",
    "import numpy as np\n",
    "cache_dir = '/ebs/.cache/ubuntu/'\n",
    "tokenizer = transformers.AutoTokenizer.from_pretrained('huggyllama/llama-7b', cache_dir=cache_dir)\n",
    "tokenizer.pad_token_id = tokenizer.eos_token_id"
   ]
  },
  {
   "cell_type": "code",
   "execution_count": 3,
   "metadata": {},
   "outputs": [],
   "source": [
    "itrx = get_batch_iterator(['sharegpt'], tokenizer=tokenizer, batch_size=8, shuffle=False, max_prompt_length=256, n_epochs=5, cache_dir=cache_dir,\n",
    "                          sampled_data_dir='/ebs/.cache/ubuntu/sharegpt2turn_llama7b_sft_maxlen512_2023-07-24_16-38-00_740003/step-550000/sharegpt2turn_noeos_maxlen512_temp0.7/')\n"
   ]
  },
  {
   "cell_type": "code",
   "execution_count": null,
   "metadata": {},
   "outputs": [],
   "source": [
    "batch = next(itrx)\n",
    "batch.keys()"
   ]
  },
  {
   "cell_type": "code",
   "execution_count": 35,
   "metadata": {},
   "outputs": [
    {
     "name": "stdout",
     "output_type": "stream",
     "text": [
      "assistant:yes\n",
      "['▁assistant', ':'] ['▁yes']\n",
      "['▁assistant', ':', 'yes']\n",
      "['▁assistant', ':', '▁yes']\n",
      "assistant: yes\n"
     ]
    }
   ],
   "source": [
    "str1 = 'assistant:'\n",
    "str2 = 'yes'\n",
    "str1_t = tokenizer.tokenize(str1)\n",
    "str2_t = tokenizer.tokenize(str2)\n",
    "print(str1 + str2)\n",
    "print(str1_t, str2_t)\n",
    "print(tokenizer.tokenize(str1 + str2))\n",
    "print(tokenizer.tokenize(str1 + ' ' + str2))\n",
    "print(tokenizer.decode(tokenizer.convert_tokens_to_ids(str1_t + str2_t)))\n"
   ]
  }
 ],
 "metadata": {
  "kernelspec": {
   "display_name": "rlhf",
   "language": "python",
   "name": "python3"
  },
  "language_info": {
   "codemirror_mode": {
    "name": "ipython",
    "version": 3
   },
   "file_extension": ".py",
   "mimetype": "text/x-python",
   "name": "python",
   "nbconvert_exporter": "python",
   "pygments_lexer": "ipython3",
   "version": "3.11.4"
  },
  "orig_nbformat": 4
 },
 "nbformat": 4,
 "nbformat_minor": 2
}
