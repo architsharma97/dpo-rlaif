{
 "cells": [
  {
   "cell_type": "code",
   "execution_count": 13,
   "metadata": {},
   "outputs": [],
   "source": [
    "import os\n",
    "import matplotlib.pyplot as plt\n",
    "import pickle\n",
    "\n",
    "base_dir = '/ebs/.cache/ubuntu'\n",
    "eval_dir = os.path.join(base_dir, 'eval_files')\n",
    "os.makedirs(eval_dir, exist_ok=True)"
   ]
  },
  {
   "cell_type": "code",
   "execution_count": 14,
   "metadata": {},
   "outputs": [],
   "source": [
    "def all_dirs_with_prefix(prefix):\n",
    "    return [os.path.join(base_dir, d) for d in os.listdir(base_dir) if d.startswith(prefix)]\n",
    "\n",
    "all_sft_dirs = [os.path.join(cdir, p) for cdir in all_dirs_with_prefix('final_ds') for p in os.listdir(cdir) if p.startswith('epoch')]\n",
    "base_eval_dir = ['/ebs/.cache/ubuntu/llama7b_samples/alpaca_eval_nsamples1_maxlen512']\n",
    "all_dpo_dirs = [os.path.join(cdir, p) for cdir in all_dirs_with_prefix('DS_') for p in os.listdir(cdir) if p.startswith('epoch')]\n",
    "eval_list = ['gpt4', 'claude_1']"
   ]
  },
  {
   "cell_type": "code",
   "execution_count": null,
   "metadata": {},
   "outputs": [],
   "source": [
    "# save the winrate dict\n",
    "save_win_dict = False\n",
    "load_win_dict = True\n",
    "winrate = {}\n",
    "\n",
    "if load_win_dict:\n",
    "    winrate_addn = pickle.load(open(os.path.join(eval_dir, 'winrate_dev2.pkl'), 'rb'))\n",
    "    winrate = {**winrate, **winrate_addn}\n",
    "\n",
    "for cdir in base_eval_dir + all_sft_dirs + all_dpo_dirs:\n",
    "    if 'DS_' in cdir:\n",
    "        if 'c2' in cdir or 'epoch-9' in cdir or 'epoch-12' in cdir:\n",
    "            # print(f'Skipping {cdir}')\n",
    "            continue\n",
    "    try:\n",
    "        name = open(os.path.join(cdir, 'name.txt')).read().splitlines()[0]\n",
    "    except:\n",
    "        print(f'Nothing found for {cdir}')\n",
    "        continue\n",
    "    print(cdir, name)\n",
    "    winrate[name] = {}\n",
    "    for eval in eval_list:\n",
    "        try:\n",
    "            leaderboard = open(os.path.join(cdir, eval, 'leaderboard.csv')).read().splitlines()\n",
    "        except:\n",
    "            print(f'Score not computed for {eval}')\n",
    "            continue\n",
    "        for row in leaderboard:\n",
    "            if row.split(',')[0] == name:\n",
    "                print(f'{eval} score for {name}: {row.split(\",\")[1]}')\n",
    "                winrate[name][eval] = float(row.split(\",\")[1])\n",
    "\n",
    "if save_win_dict:\n",
    "    with open(os.path.join(eval_dir,'winrate_dev1.pkl'), 'wb') as f:\n",
    "        pickle.dump(winrate, f)"
   ]
  },
  {
   "cell_type": "code",
   "execution_count": null,
   "metadata": {},
   "outputs": [],
   "source": [
    "winrate_per_model = {}\n",
    "for key in winrate.keys():\n",
    "    if key == 'llama7b_base':\n",
    "        continue\n",
    "    model_name = key[len('llama7b_'):-3]\n",
    "    if model_name not in winrate_per_model.keys():\n",
    "        winrate_per_model[model_name] = {}\n",
    "    for eval in eval_list:\n",
    "        if eval not in winrate_per_model[model_name].keys():\n",
    "            winrate_per_model[model_name][eval] = []\n",
    "        winrate_per_model[model_name][eval].append(winrate[key][eval])\n",
    "\n",
    "# plot winrate for every model over training epochs\n",
    "plt.figure()\n",
    "for model_name in winrate_per_model.keys():\n",
    "    for eval in ['gpt4']:\n",
    "        plt.plot(winrate_per_model[model_name][eval], label=model_name)\n",
    "    plt.legend()\n",
    "    plt.title(eval)\n",
    "    # plt.savefig(os.path.join(eval_dir, f'{model_name}_winrate.png'))\n",
    "\n",
    "plt.show()\n"
   ]
  }
 ],
 "metadata": {
  "kernelspec": {
   "display_name": "rlhf",
   "language": "python",
   "name": "python3"
  },
  "language_info": {
   "codemirror_mode": {
    "name": "ipython",
    "version": 3
   },
   "file_extension": ".py",
   "mimetype": "text/x-python",
   "name": "python",
   "nbconvert_exporter": "python",
   "pygments_lexer": "ipython3",
   "version": "3.11.4"
  },
  "orig_nbformat": 4
 },
 "nbformat": 4,
 "nbformat_minor": 2
}
