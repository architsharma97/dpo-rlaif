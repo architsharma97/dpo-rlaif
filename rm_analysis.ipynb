{
 "cells": [
  {
   "cell_type": "code",
   "execution_count": 2,
   "metadata": {},
   "outputs": [],
   "source": [
    "import matplotlib.pyplot as plt\n",
    "import numpy as np\n",
    "import os\n",
    "\n",
    "# final things we need to see: loss, accuracy, agreement, calibration of the model (on OOD preferences too)"
   ]
  },
  {
   "cell_type": "code",
   "execution_count": 4,
   "metadata": {},
   "outputs": [],
   "source": [
    "name_dir_map = {\n",
    "    # gpt4 preferences on mistral vs chatgpt runs\n",
    "    'gpt4prefs_dpo0.05': '/ebs/.cache/ubuntu/rm_dpob0.05_mistral7bsft0.1_2023-12-04_09-12-45_933448',\n",
    "    'gpt4prefs_dpo0.1': '/ebs/.cache/ubuntu/rm_dpob0.1_mistral7bsft0.1_2023-12-04_18-03-56_130314',\n",
    "    'gpt4prefs_tradrm': '/ebs/.cache/ubuntu/gpt4prefs_mistralsft_2023-12-04_07-30-28_579537',\n",
    "    # HH preference runs\n",
    "    'hhprefs_tradrm': '/ebs/.cache/ubuntu/rm_hh_mistralfm_2023-12-04_10-16-37_337525',\n",
    "    'hhprefs_dpo0.05': '/ebs/.cache/ubuntu/hh_rm_dpob0.05_mistral7bfm20k_2023-12-04_10-24-38_731180',\n",
    "    'hhprefs_dpo0.1': '/ebs/.cache/ubuntu/hh_rm_dpob0.1_mistral7bfm20k_2023-12-04_18-04-20_054612',\n",
    "    # HH preference runs without feedme on mistral\n",
    "    'hhprefs_nofm_dpo0.05': '/ebs/.cache/ubuntu/hh_rm_dpob0.05_mistral7b_2023-12-04_23-33-06_774585',\n",
    "    'hhprefs_nofm_tradrm': '/ebs/.cache/ubuntu/tradrm_hh_mistral_2023-12-04_23-17-57_739945',\n",
    "}"
   ]
  },
  {
   "cell_type": "code",
   "execution_count": 40,
   "metadata": {},
   "outputs": [
    {
     "name": "stdout",
     "output_type": "stream",
     "text": [
      "Found gpt4prefs_dpo0.05 at /ebs/.cache/ubuntu/rm_dpob0.05_mistral7bsft0.1_2023-12-04_09-12-45_933448\n",
      "accuracy: 0.7900390625, loss: 0.45083480642824725, probs: 0.7052133644327419\n",
      "accuracy: 0.78125, loss: 0.5237158740422956, probs: 0.7484364011520124\n",
      "accuracy: 0.7880859375, loss: 0.6207726011763528, probs: 0.7537582636833366\n",
      "Found gpt4prefs_dpo0.1 at /ebs/.cache/ubuntu/rm_dpob0.1_mistral7bsft0.1_2023-12-04_18-03-56_130314\n",
      "accuracy: 0.77734375, loss: 0.47361303022009094, probs: 0.7030171835315204\n",
      "accuracy: 0.7958984375, loss: 0.6706165885868355, probs: 0.770847960309361\n",
      "accuracy: 0.7998046875, loss: 0.7254645301812308, probs: 0.7821774825160885\n",
      "Found gpt4prefs_tradrm at /ebs/.cache/ubuntu/gpt4prefs_mistralsft_2023-12-04_07-30-28_579537\n",
      "accuracy: 0.7919921875, loss: 0.4192500305354372, probs: 0.7360333933568055\n",
      "accuracy: 0.771484375, loss: 1.0049542278766812, probs: 0.776732720420025\n",
      "accuracy: 0.78515625, loss: 1.1313630333694422, probs: 0.7819083296702453\n",
      "Found hhprefs_nofm_dpo0.05 at /ebs/.cache/ubuntu/hh_rm_dpob0.05_mistral7b_2023-12-04_23-33-06_774585\n",
      "accuracy: 0.7236328125, loss: 0.5327669848566075, probs: 0.6564730259644398\n",
      "accuracy: 0.7041015625, loss: 0.6078928459947162, probs: 0.6748343619504897\n",
      "accuracy: 0.6884765625, loss: 0.9278885547117067, probs: 0.677439746151866\n"
     ]
    }
   ],
   "source": [
    "vals = {}\n",
    "for key in name_dir_map:\n",
    "    if os.path.exists(name_dir_map[key]):\n",
    "        print(f'Found {key} at {name_dir_map[key]}')\n",
    "        for epoch in range(1, 4):\n",
    "            prediction_file = open(os.path.join(name_dir_map[key], f'epoch-{epoch}/test_predictions.txt')).read().splitlines()\n",
    "            k = f'{key}_epoch{epoch}'\n",
    "            vals[k] = {\n",
    "                'accuracy': np.array([float(x.split(',')[0]) for x in prediction_file]),\n",
    "                'loss': np.array([float(x.split(',')[1]) for x in prediction_file]),\n",
    "            }\n",
    "            # convert loss to probability\n",
    "            vals[k]['probs'] = np.array([np.exp(-x) for x in vals[k]['loss']])\n",
    "            print(f'accuracy: {np.mean(vals[k][\"accuracy\"])}, loss: {np.mean(vals[k][\"loss\"])}, probs: {np.mean(vals[k][\"probs\"])}')"
   ]
  },
  {
   "cell_type": "code",
   "execution_count": 46,
   "metadata": {},
   "outputs": [
    {
     "name": "stdout",
     "output_type": "stream",
     "text": [
      "0\n",
      "skipping\n",
      "1\n",
      "2\n",
      "3\n",
      "4\n",
      "5\n",
      "6\n",
      "7\n",
      "8\n",
      "9\n",
      "10\n"
     ]
    },
    {
     "data": {
      "image/png": "[encoded data removed]",
      "text/plain": [
       "<Figure size 640x480 with 1 Axes>"
      ]
     },
     "metadata": {},
     "output_type": "display_data"
    }
   ],
   "source": [
    " # plot the ECE calibration plots\n",
    "for key in vals:\n",
    "    # bin the predictions\n",
    "    bin_size = 0.1\n",
    "    bins = np.arange(0, 1 + bin_size, bin_size)\n",
    "    bin_indices = np.digitize(vals[key]['probs'], bins)\n",
    "\n",
    "    # compute the accuracy and confidence for each bin\n",
    "    bin_confs = []\n",
    "    bin_accs = []\n",
    "    for i in range(len(bins)):\n",
    "        print(i)\n",
    "        if not np.sum(bin_indices == i):\n",
    "            print('skipping')\n",
    "            bin_confs.append(0)\n",
    "            bin_accs.append(0)\n",
    "            continue\n",
    "        idxs = np.where(bin_indices == i)[0]\n",
    "        bin_confs.append(np.mean(vals[key]['probs'][idxs]))\n",
    "        bin_accs.append(np.mean(vals[key]['accuracy'][idxs]))\n",
    "    # plot\n",
    "    plt.bar(bins, bin_accs, width=bin_size, label=key)\n",
    "    break\n",
    "# plt.xlabel('Confidence')\n",
    "# plt.ylabel('Accuracy')\n",
    "plt.legend()\n",
    "plt.show()\n"
   ]
  }
 ],
 "metadata": {
  "kernelspec": {
   "display_name": "rlhf",
   "language": "python",
   "name": "python3"
  },
  "language_info": {
   "codemirror_mode": {
    "name": "ipython",
    "version": 3
   },
   "file_extension": ".py",
   "mimetype": "text/x-python",
   "name": "python",
   "nbconvert_exporter": "python",
   "pygments_lexer": "ipython3",
   "version": "3.11.4"
  },
  "orig_nbformat": 4
 },
 "nbformat": 4,
 "nbformat_minor": 2
}
